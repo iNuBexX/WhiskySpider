{
 "cells": [
  {
   "attachments": {},
   "cell_type": "markdown",
   "metadata": {},
   "source": [
    "# My First Web Scraping project.\n",
    "## 1.Skill demonstration\n",
    "In this project I demonstrate the following skills :\n",
    "1. automated web scraping  \n",
    "2. data visualization   \n",
    "3. basic data analysis  \n",
    "4. basic Markdown syntax :p\n",
    "## 2.Project Background \n",
    "This project was made on the 31st of May 2022 (the scraping was done at the same date).  \n",
    "Its intended purpose was first to quickly learn the fundamentals of scraping a website for the creation of more elaborate production ready code later on during my internship at hippo labs inc under the supervision of Mr Derek Peppas.    \n",
    "In this project I scraped a [whiksy online shop](https://whiskeyshop.com.ua/en/) for all of its products.   \n",
    "This project is heavily inspired by a [tutorial](https://www.youtube.com/watch?v=s4jtkzHhLzY) made by [John Watson Rooney](https://www.youtube.com/@JohnWatsonRooney) who has a great channel for learning webscraping \n",
    "## 3.Project Structure\n",
    "This project was created using the scrapy shell.  \n",
    "The three most important files in this project are (in descending order of importance):\n",
    "* whisky.json (contains the scraped data)\n",
    "* whiskeyspider.py (contains the crawler / spider / automated bot that does the web scraping /automated data collection )\n",
    "* project.ipynb (this notebook contains a modest data manipulation as the amount of data and richness is not that big)\n",
    "* items.py (a pipeline for the items technique used in scrapy)\n",
    "#### whisky.json\n",
    "Contains a List of comma separated objects.  \n",
    "Each of these objects represent a product / whiskey beverage  \n",
    "these objects contain :  \n",
    "* name (the name of the product)\n",
    "* price (in Ukrainian currency _Hryvnia_ **₴**)\n",
    "* link (a direct link to the product's page)\n",
    "#### whiskeyspider.py \n",
    "After fetching data the parse method is automatically called by Scrapy.  \n",
    "I simply provide the method with the correct selectors to get the data behind the provided DOM elements.  \n",
    "Notice that in case of redirection I follow the link through using the follow method.  \n",
    "#### project.ipynb \n",
    "A simple elaboration of the work that was done with some minor statistics \n",
    "#### items.py\n",
    "Scrapy provides the ability to pipeline the scraped data through more logic by molding them into items before being sent to the JSON or CSV files\n",
    "## 4.Statistics \n",
    "#### Number of items Scraped"
   ]
  },
  {
   "cell_type": "code",
   "execution_count": 164,
   "metadata": {},
   "outputs": [
    {
     "name": "stdout",
     "output_type": "stream",
     "text": [
      "164\n"
     ]
    }
   ],
   "source": [
    "import json\n",
    "f = open('whisky.json')\n",
    "data = json.load(f)\n",
    "print(len(data))"
   ]
  },
  {
   "attachments": {},
   "cell_type": "markdown",
   "metadata": {},
   "source": [
    "#### Total sum of all products' prices in dollars (at the notebook writing time)"
   ]
  },
  {
   "cell_type": "code",
   "execution_count": 165,
   "metadata": {},
   "outputs": [
    {
     "name": "stdout",
     "output_type": "stream",
     "text": [
      "the total price of buying a single item of everykind is : 890,156.0  Hryvnia which is : 24,034.212 in dollars at the current exchange rate(24/01/2023)\n"
     ]
    }
   ],
   "source": [
    "# might change this in the future to implement the exchange rates api but for now i will use the rate at writing time\n",
    "\n",
    "#a numbers with , and dots to whole numbers extraction mechanism was implemented in the following loop\n",
    "def totalsum():\n",
    "   price=0\n",
    "   for whiskyproduct in data:\n",
    "      \n",
    "      price +=float((whiskyproduct['price']).replace(',',''))\n",
    "   return price\n",
    "\n",
    "print(\"the total price of buying a single item of everykind is :\",'{:,}'.format(float(totalsum())),\" Hryvnia which is :\",'{:,}'.format(float(totalsum())*0.027),\"in dollars at the current exchange rate(24/01/2023)\")# that is one happy drunkard XD\n",
    "    \n",
    "\n"
   ]
  },
  {
   "attachments": {},
   "cell_type": "markdown",
   "metadata": {},
   "source": [
    "#### Highest Priced whiskey product\n"
   ]
  },
  {
   "cell_type": "code",
   "execution_count": 166,
   "metadata": {},
   "outputs": [
    {
     "name": "stdout",
     "output_type": "stream",
     "text": [
      "the most expensive whisky products on the shop is : Macallan 25 YO  priced at : 2,363.823 $ this product can be found here : https://whiskeyshop.com.ua/en/scotch-whisky/140-macallan-25-yo.html\n"
     ]
    }
   ],
   "source": [
    "tops=0\n",
    "productname=''\n",
    "link=''\n",
    "for whiskyproduct in data:\n",
    "    if tops< float((whiskyproduct['price']).replace(',','')):\n",
    "        tops=float((whiskyproduct['price']).replace(',',''))\n",
    "        productname=whiskyproduct['name']\n",
    "        link =whiskyproduct['link']\n",
    "print(\"the most expensive whisky products on the shop is :\",productname,\" priced at :\",'{:,}'.format(tops*0.027),\"$ this product can be found here :\",link)"
   ]
  },
  {
   "attachments": {},
   "cell_type": "markdown",
   "metadata": {},
   "source": [
    "#### Lowest Priced whiskey product\n",
    "\n"
   ]
  },
  {
   "cell_type": "code",
   "execution_count": 167,
   "metadata": {},
   "outputs": [
    {
     "name": "stdout",
     "output_type": "stream",
     "text": [
      "the least expensive whisky products on the shop is : Whisky glass Amber G 100  priced at : 22.383 $ this product can be found here : https://whiskeyshop.com.ua/en/whisky-glasses/28-whisky-glass-amber-g-100.html\n"
     ]
    }
   ],
   "source": [
    "min=float((data[0]['price']).replace(',',''))\n",
    "productname =data[0]['name']\n",
    "link=data[0]['link']\n",
    "for whiskyproduct in data:\n",
    "    if min> float((whiskyproduct['price']).replace(',','')):\n",
    "        min=float((whiskyproduct['price']).replace(',',''))\n",
    "        productname=whiskyproduct['name']\n",
    "        link =whiskyproduct['link']\n",
    "print(\"the least expensive whisky products on the shop is :\",productname,\" priced at :\",'{:,}'.format(min*0.027),\"$ this product can be found here :\",link)\n"
   ]
  },
  {
   "attachments": {},
   "cell_type": "markdown",
   "metadata": {},
   "source": [
    "#### The mean price of whisky products "
   ]
  },
  {
   "cell_type": "code",
   "execution_count": 168,
   "metadata": {},
   "outputs": [
    {
     "name": "stdout",
     "output_type": "stream",
     "text": [
      " the mean price of products is :146.5500731707317$ \n"
     ]
    }
   ],
   "source": [
    "print(' the mean price of products is :{:,}$ '.format(totalsum()/len(data)*0.027))"
   ]
  },
  {
   "attachments": {},
   "cell_type": "markdown",
   "metadata": {},
   "source": [
    "#### Standard Deviation products"
   ]
  },
  {
   "cell_type": "code",
   "execution_count": 169,
   "metadata": {},
   "outputs": [
    {
     "name": "stdout",
     "output_type": "stream",
     "text": [
      " the standard deviation in prices is :2,131,420.097650208$\n"
     ]
    }
   ],
   "source": [
    "def stdDev():\n",
    "    s=0.0\n",
    "    mean=totalsum()/len(data)\n",
    "    for whiskyproduct in data:\n",
    "        s+=(float((whiskyproduct['price']).replace(',',''))-mean)**2\n",
    "    s/=len(data)\n",
    "    return s\n",
    "print(' the standard deviation in prices is :{:,}$'.format(stdDev()*0.027))"
   ]
  },
  {
   "attachments": {},
   "cell_type": "markdown",
   "metadata": {},
   "source": [
    "##### Notice the very large standard deviation  \n",
    "this is explained by the fact that \n",
    "this shop sells empty whiskey glasses for low prices and some old whiskey bottles for higher prices \n",
    "#### Top 10 Most expensive products\n"
   ]
  },
  {
   "cell_type": "code",
   "execution_count": 185,
   "metadata": {},
   "outputs": [
    {
     "name": "stdout",
     "output_type": "stream",
     "text": [
      "names: ['Macallan 25 YO', 'Bunnahabhain 28 YO', 'Speyside 44 YO', 'Springbank 20 YO', 'Springbank 18 YO', 'Bowmore 27 YO', 'Bowmore 18 YO', 'Clynelish 21 YO', 'Bowmore 20 YO', 'Ledaig 26 YO']\n",
      "prices [87549.0, 49889.0, 39889.0, 29989.0, 19109.0, 18989.0, 14989.0, 14989.0, 14619.0, 14289.0]\n"
     ]
    },
    {
     "data": {
      "image/png": "[encoded data removed]",
      "text/plain": [
       "<Figure size 640x480 with 1 Axes>"
      ]
     },
     "metadata": {},
     "output_type": "display_data"
    }
   ],
   "source": [
    "productsdic=dict()\n",
    "for product in data:\n",
    "    productsdic[product['name']]=product['price']\n",
    "\n",
    "\n",
    "productslist=[]\n",
    "for element in productsdic:\n",
    "    productslist.append((element,productsdic[element]))\n",
    "\n",
    "productslist = sorted(productslist, key=lambda data: float((data[1]).replace(',','')))\n",
    "productslist.reverse()\n",
    "topten = productslist[0:10]\n",
    "\n",
    "import numpy as np\n",
    "import matplotlib.pyplot as plt\n",
    "# n_bins=20\n",
    "\n",
    "names = [whiskyproduct[0] for whiskyproduct in topten]\n",
    "prices = [float((whiskyproduct[1]).replace(',','')) for whiskyproduct in topten]\n",
    "counts, bins = np.histogram(prices)\n",
    "plt.stairs(counts, bins)\n",
    "print(\"names:\",names)\n",
    "print(\"prices\",prices)"
   ]
  }
 ],
 "metadata": {
  "kernelspec": {
   "display_name": "Python 3",
   "language": "python",
   "name": "python3"
  },
  "language_info": {
   "codemirror_mode": {
    "name": "ipython",
    "version": 3
   },
   "file_extension": ".py",
   "mimetype": "text/x-python",
   "name": "python",
   "nbconvert_exporter": "python",
   "pygments_lexer": "ipython3",
   "version": "3.10.4"
  },
  "orig_nbformat": 4,
  "vscode": {
   "interpreter": {
    "hash": "369f2c481f4da34e4445cda3fffd2e751bd1c4d706f27375911949ba6bb62e1c"
   }
  }
 },
 "nbformat": 4,
 "nbformat_minor": 2
}
